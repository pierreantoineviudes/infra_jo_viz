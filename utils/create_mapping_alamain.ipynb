{
 "cells": [
  {
   "cell_type": "code",
   "execution_count": 24,
   "metadata": {},
   "outputs": [],
   "source": [
    "import pandas as pd\n",
    "import numpy as np\n",
    "import matplotlib.pyplot as plt\n",
    "import seaborn as sns\n",
    "from tqdm import tqdm\n",
    "import requests"
   ]
  },
  {
   "cell_type": "code",
   "execution_count": 25,
   "metadata": {},
   "outputs": [],
   "source": [
    "# load data\n",
    "data_session = pd.read_csv('../session_planning_pars_with_loc_v12.csv')"
   ]
  },
  {
   "cell_type": "code",
   "execution_count": 26,
   "metadata": {},
   "outputs": [
    {
     "data": {
      "text/html": [
       "<div>\n",
       "<style scoped>\n",
       "    .dataframe tbody tr th:only-of-type {\n",
       "        vertical-align: middle;\n",
       "    }\n",
       "\n",
       "    .dataframe tbody tr th {\n",
       "        vertical-align: top;\n",
       "    }\n",
       "\n",
       "    .dataframe thead th {\n",
       "        text-align: right;\n",
       "    }\n",
       "</style>\n",
       "<table border=\"1\" class=\"dataframe\">\n",
       "  <thead>\n",
       "    <tr style=\"text-align: right;\">\n",
       "      <th></th>\n",
       "      <th>Unnamed: 0</th>\n",
       "      <th>num_jour</th>\n",
       "      <th>date</th>\n",
       "      <th>discipline</th>\n",
       "      <th>num_session</th>\n",
       "      <th>debut_epreuve</th>\n",
       "      <th>fin_epreuve</th>\n",
       "      <th>lieu_epreuve</th>\n",
       "      <th>nom_epreuve</th>\n",
       "      <th>parsing_epreuve</th>\n",
       "      <th>NOM</th>\n",
       "      <th>Geo Point</th>\n",
       "      <th>SITES OLYMPIQUES PARALYMPIQUES</th>\n",
       "      <th>SPORTS</th>\n",
       "      <th>latitude</th>\n",
       "      <th>longitude</th>\n",
       "    </tr>\n",
       "  </thead>\n",
       "  <tbody>\n",
       "    <tr>\n",
       "      <th>0</th>\n",
       "      <td>1</td>\n",
       "      <td>7</td>\n",
       "      <td>Vendredi 2 Août</td>\n",
       "      <td>Athletisme</td>\n",
       "      <td>ATH02</td>\n",
       "      <td>10:00</td>\n",
       "      <td>13:00</td>\n",
       "      <td>Stade de France</td>\n",
       "      <td>Décathlon - 100 m, hommes Lancer de marteau - ...</td>\n",
       "      <td>{\"content\": [{\"epreuve\": \"D\\u00e9cathlon\", \"ge...</td>\n",
       "      <td>Stade de France</td>\n",
       "      <td>48.924388, 2.359871</td>\n",
       "      <td>Site olympique,Site paralympique</td>\n",
       "      <td>Athlétisme,Para athlétisme,Rugby</td>\n",
       "      <td>48.924388</td>\n",
       "      <td>2.359871</td>\n",
       "    </tr>\n",
       "  </tbody>\n",
       "</table>\n",
       "</div>"
      ],
      "text/plain": [
       "   Unnamed: 0 num_jour             date  discipline num_session debut_epreuve  \\\n",
       "0           1        7  Vendredi 2 Août  Athletisme       ATH02         10:00   \n",
       "\n",
       "  fin_epreuve     lieu_epreuve  \\\n",
       "0       13:00  Stade de France   \n",
       "\n",
       "                                         nom_epreuve  \\\n",
       "0  Décathlon - 100 m, hommes Lancer de marteau - ...   \n",
       "\n",
       "                                     parsing_epreuve              NOM  \\\n",
       "0  {\"content\": [{\"epreuve\": \"D\\u00e9cathlon\", \"ge...  Stade de France   \n",
       "\n",
       "             Geo Point    SITES OLYMPIQUES PARALYMPIQUES  \\\n",
       "0  48.924388, 2.359871  Site olympique,Site paralympique   \n",
       "\n",
       "                             SPORTS   latitude  longitude  \n",
       "0  Athlétisme,Para athlétisme,Rugby  48.924388   2.359871  "
      ]
     },
     "execution_count": 26,
     "metadata": {},
     "output_type": "execute_result"
    }
   ],
   "source": [
    "data_session.head(1)"
   ]
  },
  {
   "cell_type": "code",
   "execution_count": 27,
   "metadata": {},
   "outputs": [],
   "source": [
    "# data_session = data_session.drop([\"Unnamed: 0.1\", \"Unnamed: 0\"], axis=1)\n",
    "data_session = data_session.drop([\"Unnamed: 0\"], axis=1)"
   ]
  },
  {
   "cell_type": "code",
   "execution_count": 28,
   "metadata": {},
   "outputs": [
    {
     "data": {
      "text/html": [
       "<div>\n",
       "<style scoped>\n",
       "    .dataframe tbody tr th:only-of-type {\n",
       "        vertical-align: middle;\n",
       "    }\n",
       "\n",
       "    .dataframe tbody tr th {\n",
       "        vertical-align: top;\n",
       "    }\n",
       "\n",
       "    .dataframe thead th {\n",
       "        text-align: right;\n",
       "    }\n",
       "</style>\n",
       "<table border=\"1\" class=\"dataframe\">\n",
       "  <thead>\n",
       "    <tr style=\"text-align: right;\">\n",
       "      <th></th>\n",
       "      <th>num_jour</th>\n",
       "      <th>date</th>\n",
       "      <th>discipline</th>\n",
       "      <th>num_session</th>\n",
       "      <th>debut_epreuve</th>\n",
       "      <th>fin_epreuve</th>\n",
       "      <th>lieu_epreuve</th>\n",
       "      <th>nom_epreuve</th>\n",
       "      <th>parsing_epreuve</th>\n",
       "      <th>NOM</th>\n",
       "      <th>Geo Point</th>\n",
       "      <th>SITES OLYMPIQUES PARALYMPIQUES</th>\n",
       "      <th>SPORTS</th>\n",
       "      <th>latitude</th>\n",
       "      <th>longitude</th>\n",
       "    </tr>\n",
       "  </thead>\n",
       "  <tbody>\n",
       "    <tr>\n",
       "      <th>0</th>\n",
       "      <td>7</td>\n",
       "      <td>Vendredi 2 Août</td>\n",
       "      <td>Athletisme</td>\n",
       "      <td>ATH02</td>\n",
       "      <td>10:00</td>\n",
       "      <td>13:00</td>\n",
       "      <td>Stade de France</td>\n",
       "      <td>Décathlon - 100 m, hommes Lancer de marteau - ...</td>\n",
       "      <td>{\"content\": [{\"epreuve\": \"D\\u00e9cathlon\", \"ge...</td>\n",
       "      <td>Stade de France</td>\n",
       "      <td>48.924388, 2.359871</td>\n",
       "      <td>Site olympique,Site paralympique</td>\n",
       "      <td>Athlétisme,Para athlétisme,Rugby</td>\n",
       "      <td>48.924388</td>\n",
       "      <td>2.359871</td>\n",
       "    </tr>\n",
       "  </tbody>\n",
       "</table>\n",
       "</div>"
      ],
      "text/plain": [
       "  num_jour             date  discipline num_session debut_epreuve fin_epreuve  \\\n",
       "0        7  Vendredi 2 Août  Athletisme       ATH02         10:00       13:00   \n",
       "\n",
       "      lieu_epreuve                                        nom_epreuve  \\\n",
       "0  Stade de France  Décathlon - 100 m, hommes Lancer de marteau - ...   \n",
       "\n",
       "                                     parsing_epreuve              NOM  \\\n",
       "0  {\"content\": [{\"epreuve\": \"D\\u00e9cathlon\", \"ge...  Stade de France   \n",
       "\n",
       "             Geo Point    SITES OLYMPIQUES PARALYMPIQUES  \\\n",
       "0  48.924388, 2.359871  Site olympique,Site paralympique   \n",
       "\n",
       "                             SPORTS   latitude  longitude  \n",
       "0  Athlétisme,Para athlétisme,Rugby  48.924388   2.359871  "
      ]
     },
     "execution_count": 28,
     "metadata": {},
     "output_type": "execute_result"
    }
   ],
   "source": [
    "data_session.head(1)"
   ]
  },
  {
   "cell_type": "code",
   "execution_count": 29,
   "metadata": {},
   "outputs": [
    {
     "data": {
      "text/plain": [
       "array(['Stade de France',\n",
       "       \"Hôtel de Ville (site de départ) - Invalides (site d'arrivée)\",\n",
       "       'Stade nautique de Vaires-sur-Marne - Bassin eaux calmes',\n",
       "       'Arena Porte de La Chapelle', 'Arena Bercy', 'La Concorde 1',\n",
       "       'La Concorde', 'Stade BMX de Saint-Quentin-en-Yvelines',\n",
       "       'Arena Paris Nord', 'Stade Roland-Garros - P.Chatrier',\n",
       "       'Stade nautique de Vaires-sur-Marne - Bassin eaux vives',\n",
       "       'Vélodrome National de Saint-Quentin-en-Yvelines',\n",
       "       'Départ Invalides - Arrivée Pont Alexandre III',\n",
       "       \"Site d'escalade du Bourget\", 'Grand Palais', 'Parc des Princes',\n",
       "       'Golf National', 'Porte de La Chapelle Arena', 'Arena Paris Sud 6',\n",
       "       'Stade Yves-du-Manoir - Terrain 1',\n",
       "       'Stade Yves-du-Manoir - Terrain 2', 'Arena Champ-de-Mars',\n",
       "       'Paris La Défense Arena', 'Centre aquatique',\n",
       "       'Château de Versailles', 'La Concorde 3', 'La Concorde 4',\n",
       "       'Stade Roland-Garros - Court Suzanne-Lenglen',\n",
       "       'Stade Roland-Garros - Court Simonne-Mathieu',\n",
       "       'Stade Roland-Garros - Courts Annexes',\n",
       "       'Stade Roland-Garros - Court Philippe-Chatrier',\n",
       "       'Arena Paris Sud 4', 'Invalides', 'Stade Tour Eiffel',\n",
       "       'Arena Paris Sud 1', \"Colline d'Elancourt\"], dtype=object)"
      ]
     },
     "execution_count": 29,
     "metadata": {},
     "output_type": "execute_result"
    }
   ],
   "source": [
    "data_session.lieu_epreuve.unique()"
   ]
  },
  {
   "cell_type": "code",
   "execution_count": 30,
   "metadata": {},
   "outputs": [],
   "source": [
    "stade_vers_capacite = {\n",
    "    'Stade de France': 80000,\n",
    "    'Stade nautique de Vaires-sur-Marne - Bassin eaux calmes': 14000,\n",
    "    'Arena Porte de La Chapelle': 9000,\n",
    "    'Stade BMX de Saint-Quentin-en-Yvelines': 3000,\n",
    "    'Stade nautique de Vaires-sur-Marne - Bassin eaux vives': 24000,\n",
    "    'Vélodrome National de Saint-Quentin-en-Yvelines': 6000,\n",
    "    'Grand Palais': 8000,\n",
    "    'Parc des Princes'   : 48583,\n",
    "    'Arena Bercy': 20300,\n",
    "    'Porte de La Chapelle Arena': 9000,\n",
    "    'Arena Paris Sud 6': 8000,\n",
    "    'Stade Yves-du-Manoir - Terrain 2': 13500,\n",
    "    'Stade Yves-du-Manoir - Terrain 1': 13500,\n",
    "    'Arena Champ-de-Mars': 8000,\n",
    "    'Paris La Défense Arena': 17000,\n",
    "    'Arena Paris Nord': 8000,\n",
    "    'Château de Versailles': 40000,\n",
    "    'Centre aquatique': 2500,\n",
    "    'Invalides': 17000,\n",
    "    'Stade Tour Eiffel': 12860,\n",
    "    # add new capacite \n",
    "    'Arena Paris Sud 1': 8000,\n",
    "    'Arena Paris Sud 4': 8000,\n",
    "    'La Concorde 1': 35000,\n",
    "    'Stade Roland-Garros - Court Philippe-Chatrier': 14911,\n",
    "    'Golf National': 32720,\n",
    "    'Stade Roland-Garros - Court Suzanne-Lenglen': 10056,\n",
    "    \"Site d'escalade du Bourget\": 6000,\n",
    "    'La Concorde 3': 35000,\n",
    "    'Stade Roland-Garros - Court Simonne-Mathieu': 5000,\n",
    "    'Stade Roland-Garros - P.Chatrier': 14911,\n",
    "    'Stade Roland-Garros - Courts Annexes': 2400,\n",
    "    \"Colline d'Elancourt\": 15000,\n",
    "    \"Hôtel de Ville (site de départ) - Invalides (site d'arrivée)\": 8000,\n",
    "    'La Concorde': 35000,\n",
    "    'La Concorde 4': 35000,\n",
    "    'Départ Invalides - Arrivée Pont Alexandre III': 8000,\n",
    "}"
   ]
  },
  {
   "cell_type": "code",
   "execution_count": 31,
   "metadata": {},
   "outputs": [
    {
     "name": "stderr",
     "output_type": "stream",
     "text": [
      "100%|██████████| 36/36 [00:00<00:00, 1334.70it/s]\n"
     ]
    }
   ],
   "source": [
    "for stade in tqdm(stade_vers_capacite.keys()):\n",
    "    data_session.loc[data_session.lieu_epreuve == stade, 'capacite'] = stade_vers_capacite[stade]"
   ]
  },
  {
   "cell_type": "code",
   "execution_count": 32,
   "metadata": {},
   "outputs": [
    {
     "data": {
      "text/plain": [
       "<Axes: >"
      ]
     },
     "execution_count": 32,
     "metadata": {},
     "output_type": "execute_result"
    },
    {
     "data": {
      "image/png": "[encoded data removed]",
      "text/plain": [
       "<Figure size 640x480 with 1 Axes>"
      ]
     },
     "metadata": {},
     "output_type": "display_data"
    }
   ],
   "source": [
    "data_session.capacite.hist()"
   ]
  },
  {
   "cell_type": "code",
   "execution_count": 33,
   "metadata": {},
   "outputs": [
    {
     "data": {
      "text/plain": [
       "capacite\n",
       "8000.0     212\n",
       "17000.0     49\n",
       "2500.0      42\n",
       "13500.0     42\n",
       "12860.0     40\n",
       "20300.0     32\n",
       "35000.0     32\n",
       "9000.0      31\n",
       "80000.0     25\n",
       "14911.0     21\n",
       "40000.0     15\n",
       "6000.0      15\n",
       "14000.0     13\n",
       "48583.0     10\n",
       "24000.0      9\n",
       "32720.0      8\n",
       "10056.0      8\n",
       "5000.0       6\n",
       "2400.0       5\n",
       "15000.0      3\n",
       "3000.0       2\n",
       "Name: count, dtype: int64"
      ]
     },
     "execution_count": 33,
     "metadata": {},
     "output_type": "execute_result"
    }
   ],
   "source": [
    "data_session.capacite.value_counts()"
   ]
  },
  {
   "cell_type": "code",
   "execution_count": 34,
   "metadata": {},
   "outputs": [
    {
     "data": {
      "text/plain": [
       "0"
      ]
     },
     "execution_count": 34,
     "metadata": {},
     "output_type": "execute_result"
    }
   ],
   "source": [
    "data_session.capacite.isna().sum()\n",
    "# probleme, on a 179 capacite qui ne sont pas mappées"
   ]
  },
  {
   "cell_type": "code",
   "execution_count": 35,
   "metadata": {},
   "outputs": [
    {
     "data": {
      "text/plain": [
       "Series([], Name: count, dtype: int64)"
      ]
     },
     "execution_count": 35,
     "metadata": {},
     "output_type": "execute_result"
    }
   ],
   "source": [
    "# get lieux avec capacites pas mappées\n",
    "data_session.loc[data_session.capacite.isna()].lieu_epreuve.value_counts()"
   ]
  },
  {
   "cell_type": "code",
   "execution_count": 36,
   "metadata": {},
   "outputs": [],
   "source": [
    "data_session.to_csv('../session_planning_with_loc_v13.csv', index=False)"
   ]
  },
  {
   "cell_type": "code",
   "execution_count": null,
   "metadata": {},
   "outputs": [],
   "source": []
  }
 ],
 "metadata": {
  "kernelspec": {
   "display_name": ".venv",
   "language": "python",
   "name": "python3"
  },
  "language_info": {
   "codemirror_mode": {
    "name": "ipython",
    "version": 3
   },
   "file_extension": ".py",
   "mimetype": "text/x-python",
   "name": "python",
   "nbconvert_exporter": "python",
   "pygments_lexer": "ipython3",
   "version": "3.12.1"
  }
 },
 "nbformat": 4,
 "nbformat_minor": 2
}
