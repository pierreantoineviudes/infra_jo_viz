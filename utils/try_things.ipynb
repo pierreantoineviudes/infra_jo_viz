{
 "cells": [
  {
   "cell_type": "markdown",
   "metadata": {},
   "source": [
    "Dans ce notebook, je vais essayer d'ajouter les lieux des infras sportives aux épreuves des JO à l'aide de l'API offerte par le grouvernement"
   ]
  },
  {
   "cell_type": "markdown",
   "metadata": {},
   "source": [
    "https://equipements.sports.gouv.fr/explore/dataset/data-es/table/"
   ]
  },
  {
   "cell_type": "code",
   "execution_count": 1,
   "metadata": {},
   "outputs": [
    {
     "name": "stderr",
     "output_type": "stream",
     "text": [
      "C:\\Users\\PA\\AppData\\Local\\Temp\\ipykernel_10972\\1020607637.py:1: DeprecationWarning: \n",
      "Pyarrow will become a required dependency of pandas in the next major release of pandas (pandas 3.0),\n",
      "(to allow more performant data types, such as the Arrow string type, and better interoperability with other libraries)\n",
      "but was not found to be installed on your system.\n",
      "If this would cause problems for you,\n",
      "please provide us feedback at https://github.com/pandas-dev/pandas/issues/54466\n",
      "        \n",
      "  import pandas as pd\n"
     ]
    }
   ],
   "source": [
    "import pandas as pd\n",
    "import numpy as np\n",
    "import seaborn as sns\n",
    "import matplotlib.pyplot as plt"
   ]
  },
  {
   "cell_type": "code",
   "execution_count": 4,
   "metadata": {},
   "outputs": [],
   "source": [
    "session_data = pd.read_csv(\"../data/raw/session_planning_olympics.csv\", index_col=0)"
   ]
  },
  {
   "cell_type": "code",
   "execution_count": 6,
   "metadata": {},
   "outputs": [
    {
     "data": {
      "text/plain": [
       "lieu_epreuve\n",
       "Teahupoo                                                                                                                                                                                                                                                                                                                                                                                                                                         78\n",
       "Stade Tour Eiffel Match pour la médaille de bronze - Femmes Match pour la médaille d'or - Femmes Session VBV40 Début : 21:00 Fin : 00:00 Stade Tour Eiffel Match pour la médaille de bronze - Hommes Match pour la médaille d'or - Hommes Le calendrier reste susceptible de modification jusqu'à la conclusion des Jeux Olympiques. VOLLEYBALL Calendrier par épreuves Version : Session VVO01 1,1 Début: 09:00 Fin: 11:30 Arena Paris Sud 1    54\n",
       "La Concorde 1                                                                                                                                                                                                                                                                                                                                                                                                                                    50\n",
       "Centre aquatique                                                                                                                                                                                                                                                                                                                                                                                                                                 45\n",
       "Stade Pierre Mauroy*                                                                                                                                                                                                                                                                                                                                                                                                                             40\n",
       "Arena Paris Sud 6                                                                                                                                                                                                                                                                                                                                                                                                                                40\n",
       "Stade Tour Eiffel                                                                                                                                                                                                                                                                                                                                                                                                                                38\n",
       "Paris La Défense Arena                                                                                                                                                                                                                                                                                                                                                                                                                           36\n",
       "Arena Champ-de-Mars                                                                                                                                                                                                                                                                                                                                                                                                                              28\n",
       "Stade Yves-du-Manoir - Terrain 1                                                                                                                                                                                                                                                                                                                                                                                                                 27\n",
       "Arena Porte de La Chapelle                                                                                                                                                                                                                                                                                                                                                                                                                       26\n",
       "Centre National de Tir de Châteauroux*                                                                                                                                                                                                                                                                                                                                                                                                           19\n",
       "Parc des Princes                                                                                                                                                                                                                                                                                                                                                                                                                                 18\n",
       "Invalides                                                                                                                                                                                                                                                                                                                                                                                                                                        18\n",
       "Pont Alexandre III                                                                                                                                                                                                                                                                                                                                                                                                                               17\n",
       "Stade Pierre Mauroy                                                                                                                                                                                                                                                                                                                                                                                                                              16\n",
       "Grand Palais                                                                                                                                                                                                                                                                                                                                                                                                                                     16\n",
       "Stade de France                                                                                                                                                                                                                                                                                                                                                                                                                                  16\n",
       "Arena Bercy                                                                                                                                                                                                                                                                                                                                                                                                                                      16\n",
       "Château de Versailles                                                                                                                                                                                                                                                                                                                                                                                                                            15\n",
       "Stade nautique de Vaires-sur-Marne - Bassin eaux vives                                                                                                                                                                                                                                                                                                                                                                                           14\n",
       "Stade Yves-du-Manoir - Terrain 2                                                                                                                                                                                                                                                                                                                                                                                                                 14\n",
       "Stade de Lyon                                                                                                                                                                                                                                                                                                                                                                                                                                    11\n",
       "Stade de Marseille                                                                                                                                                                                                                                                                                                                                                                                                                               10\n",
       "Stade nautique de Vaires-sur-Marne - Bassin eaux calmes                                                                                                                                                                                                                                                                                                                                                                                           8\n",
       "Stade de la Beaujoire                                                                                                                                                                                                                                                                                                                                                                                                                             8\n",
       "Stade de Bordeaux                                                                                                                                                                                                                                                                                                                                                                                                                                 7\n",
       "Stade de Nice                                                                                                                                                                                                                                                                                                                                                                                                                                     6\n",
       "Stade Geoffroy-Guichard                                                                                                                                                                                                                                                                                                                                                                                                                           6\n",
       "Site d'escalade du Bourget                                                                                                                                                                                                                                                                                                                                                                                                                        6\n",
       "Porte de La Chapelle Arena                                                                                                                                                                                                                                                                                                                                                                                                                        5\n",
       "Vélodrome National de Saint-Quentin-en-Yvelines                                                                                                                                                                                                                                                                                                                                                                                                   5\n",
       "Trocadéro                                                                                                                                                                                                                                                                                                                                                                                                                                         4\n",
       "Stade BMX de Saint-Quentin-en-Yvelines                                                                                                                                                                                                                                                                                                                                                                                                            2\n",
       "Hôtel de Ville (site de départ) - Invalides (site d'arrivée)                                                                                                                                                                                                                                                                                                                                                                                      2\n",
       "Départ Invalides - Arrivée Pont Alexandre III                                                                                                                                                                                                                                                                                                                                                                                                     1\n",
       "Arena Paris Nord                                                                                                                                                                                                                                                                                                                                                                                                                                  1\n",
       "Vélodrome National de Saint-Quentin-en-Yvelines Madison - femmes, finale Vitesse - femmes, 16e finale Vitesse - hommes, finales Vitesse - femmes, 16e finale - repêchages JOUR 15 Samedi 10 Août Session CTR08 Début : 17:00 Fin : 20:20 Vélodrome National de Saint-Quentin-en-Yvelines                                                                                                                                                          1\n",
       "Vélodrome National de Saint-Quentin-en-Yvelines Vitesse - hommes, 16e finale Poursuite par équipes - hommes, finales Vitesse - hommes, 16e finale - repêchages Poursuite par équipes - femmes, finales Vitesse - hommes, 8e finale Vitesse - hommes, 8e finale - repêchages JOUR 13 Jeudi 8 Août Session CTR05 Début : 17:00 Fin : 20:25 Vélodrome National de Saint-Quentin-en-Yvelines                                                          1\n",
       "La Concorde Park - femmes, qualification Park - hommes, qualification JOUR 5 Mercredi 31 Juillet Session BMF02 Début :                                                                                                                                                                                                                                                                                                                            1\n",
       "Name: count, dtype: int64"
      ]
     },
     "execution_count": 6,
     "metadata": {},
     "output_type": "execute_result"
    }
   ],
   "source": [
    "session_data.lieu_epreuve.value_counts()"
   ]
  },
  {
   "cell_type": "code",
   "execution_count": null,
   "metadata": {},
   "outputs": [],
   "source": []
  }
 ],
 "metadata": {
  "kernelspec": {
   "display_name": ".venv",
   "language": "python",
   "name": "python3"
  },
  "language_info": {
   "codemirror_mode": {
    "name": "ipython",
    "version": 3
   },
   "file_extension": ".py",
   "mimetype": "text/x-python",
   "name": "python",
   "nbconvert_exporter": "python",
   "pygments_lexer": "ipython3",
   "version": "3.10.4"
  }
 },
 "nbformat": 4,
 "nbformat_minor": 2
}
