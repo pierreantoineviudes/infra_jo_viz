{
 "cells": [
  {
   "cell_type": "markdown",
   "metadata": {},
   "source": [
    "Ici on tente de faire un mapping entre les lieux de la db de corenting et l'API gouv"
   ]
  },
  {
   "cell_type": "code",
   "execution_count": 52,
   "metadata": {},
   "outputs": [],
   "source": [
    "import pandas as pd\n",
    "import numpy as np\n",
    "import requests"
   ]
  },
  {
   "cell_type": "markdown",
   "metadata": {},
   "source": [
    "On crée une liste des lieux à géocoder.\n",
    "A chaque tentative, on supprime de la liste les éléments trouvés"
   ]
  },
  {
   "cell_type": "code",
   "execution_count": 53,
   "metadata": {},
   "outputs": [],
   "source": [
    "# recuperaztion des lieux de corenting\n",
    "session_data = pd.read_csv(\"../data/raw/session_planning_olympics.csv\")\n",
    "lieu_epreuves = set(session_data.lieu_epreuve)"
   ]
  },
  {
   "cell_type": "code",
   "execution_count": 54,
   "metadata": {},
   "outputs": [
    {
     "name": "stdout",
     "output_type": "stream",
     "text": [
      "longueur restantes 40\n"
     ]
    }
   ],
   "source": [
    "print('longueur restantes', len(lieu_epreuves))"
   ]
  },
  {
   "cell_type": "code",
   "execution_count": 55,
   "metadata": {},
   "outputs": [
    {
     "name": "stdout",
     "output_type": "stream",
     "text": [
      "trouvé\n",
      "trouvé\n",
      "trouvé\n"
     ]
    }
   ],
   "source": [
    "# méthode directe\n",
    "dataset = \"data-es\"\n",
    "base_url = f\"https://equipements.sports.gouv.fr/api/explore/v2.1/catalog/datasets/{dataset}/records\"\n",
    "lieu_remove = []\n",
    "for lieu in lieu_epreuves:\n",
    "    params = {\n",
    "        \"where\": f'nominstallation:\"{lieu}\"',\n",
    "        \"select\": \"numinstallation,nominstallation,adresse,codepostal,new_name,new_code,nomequipement,coordgpsx,coordgpsy, carac72\"\n",
    "    }\n",
    "    res = requests.get(url=base_url, params=params, timeout=2)\n",
    "    if res.json()['total_count'] > 0:\n",
    "        print('trouvé')\n",
    "        lieu_remove.append(lieu)\n",
    "        pd.DataFrame(res.json()['results']).to_csv(f\"../data/raw/{lieu}_basic.csv\")\n",
    "for lieu in lieu_remove:\n",
    "    lieu_epreuves.remove(lieu)"
   ]
  },
  {
   "cell_type": "code",
   "execution_count": 56,
   "metadata": {},
   "outputs": [
    {
     "name": "stdout",
     "output_type": "stream",
     "text": [
      "longueur restantes 37\n"
     ]
    }
   ],
   "source": [
    "print('longueur restantes', len(lieu_epreuves))"
   ]
  },
  {
   "cell_type": "code",
   "execution_count": 57,
   "metadata": {},
   "outputs": [
    {
     "name": "stdout",
     "output_type": "stream",
     "text": [
      "trouvé\n",
      "trouvé\n",
      "trouvé\n",
      "trouvé\n",
      "longueur restantes 33\n"
     ]
    }
   ],
   "source": [
    "# méthode caps\n",
    "dataset = \"data-es\"\n",
    "base_url = f\"https://equipements.sports.gouv.fr/api/explore/v2.1/catalog/datasets/{dataset}/records\"\n",
    "lieu_remove = []\n",
    "for lieu in lieu_epreuves:\n",
    "    params = {\n",
    "        \"where\": f'nominstallation:\"{lieu.upper()}\"',\n",
    "        \"select\": \"numinstallation,nominstallation,adresse,codepostal,new_name,new_code,nomequipement,coordgpsx,coordgpsy, carac72\"\n",
    "    }\n",
    "    res = requests.get(url=base_url, params=params, timeout=2)\n",
    "    if res.json()['total_count'] > 0:\n",
    "        print('trouvé')\n",
    "        lieu_remove.append(lieu)\n",
    "        pd.DataFrame(res.json()['results']).to_csv(f\"../data/raw/{lieu}_upper.csv\")\n",
    "for lieu in lieu_remove:\n",
    "    lieu_epreuves.remove(lieu)\n",
    "print('longueur restantes', len(lieu_epreuves))"
   ]
  },
  {
   "cell_type": "code",
   "execution_count": 58,
   "metadata": {},
   "outputs": [
    {
     "name": "stdout",
     "output_type": "stream",
     "text": [
      "longueur restantes 33\n"
     ]
    }
   ],
   "source": [
    "print('longueur restantes', len(lieu_epreuves))"
   ]
  },
  {
   "cell_type": "code",
   "execution_count": 59,
   "metadata": {},
   "outputs": [
    {
     "name": "stdout",
     "output_type": "stream",
     "text": [
      "longueur restantes 33\n"
     ]
    }
   ],
   "source": [
    "# méthode caps\n",
    "dataset = \"data-es\"\n",
    "base_url = f\"https://equipements.sports.gouv.fr/api/explore/v2.1/catalog/datasets/{dataset}/records\"\n",
    "lieu_remove = []\n",
    "for lieu in lieu_epreuves:\n",
    "    params = {\n",
    "        \"where\": f'nominstallation:\"{lieu.lower()}\"',\n",
    "        \"select\": \"numinstallation,nominstallation,adresse,codepostal,new_name,new_code,nomequipement,coordgpsx,coordgpsy, carac72\"\n",
    "    }\n",
    "    res = requests.get(url=base_url, params=params, timeout=2)\n",
    "    if res.json()['total_count'] > 0:\n",
    "        print('trouvé')\n",
    "        lieu_remove.append(lieu)\n",
    "        pd.DataFrame(res.json()['results']).to_csv(f\"../data/raw/{lieu}_lower.csv\")\n",
    "for lieu in lieu_remove:\n",
    "    lieu_epreuves.remove(lieu)\n",
    "\n",
    "print('longueur restantes', len(lieu_epreuves))"
   ]
  },
  {
   "cell_type": "code",
   "execution_count": null,
   "metadata": {},
   "outputs": [],
   "source": []
  }
 ],
 "metadata": {
  "kernelspec": {
   "display_name": ".venv",
   "language": "python",
   "name": "python3"
  },
  "language_info": {
   "codemirror_mode": {
    "name": "ipython",
    "version": 3
   },
   "file_extension": ".py",
   "mimetype": "text/x-python",
   "name": "python",
   "nbconvert_exporter": "python",
   "pygments_lexer": "ipython3",
   "version": "3.10.4"
  }
 },
 "nbformat": 4,
 "nbformat_minor": 2
}
