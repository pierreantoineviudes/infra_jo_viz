{
 "cells": [
  {
   "cell_type": "markdown",
   "metadata": {},
   "source": [
    "Ici on tente de faire un mapping entre les lieux de la db de corenting et l'API gouv"
   ]
  },
  {
   "cell_type": "code",
   "execution_count": 37,
   "metadata": {},
   "outputs": [],
   "source": [
    "import pandas as pd\n",
    "import numpy as np\n",
    "import requests"
   ]
  },
  {
   "cell_type": "markdown",
   "metadata": {},
   "source": [
    "On crée une liste des lieux à géocoder.\n",
    "A chaque tentative, on supprime de la liste les éléments trouvés"
   ]
  },
  {
   "cell_type": "code",
   "execution_count": 38,
   "metadata": {},
   "outputs": [],
   "source": [
    "# recuperaztion des lieux de corenting\n",
    "session_data = pd.read_csv(\"../data/raw/session_planning_olympics.csv\")\n",
    "lieu_epreuves = set(session_data.lieu_epreuve)"
   ]
  },
  {
   "cell_type": "code",
   "execution_count": 39,
   "metadata": {},
   "outputs": [
    {
     "name": "stdout",
     "output_type": "stream",
     "text": [
      "longueur restantes 40\n"
     ]
    }
   ],
   "source": [
    "print('longueur restantes', len(lieu_epreuves))"
   ]
  },
  {
   "cell_type": "code",
   "execution_count": 40,
   "metadata": {},
   "outputs": [],
   "source": [
    "data = pd.DataFrame([])"
   ]
  },
  {
   "cell_type": "code",
   "execution_count": 41,
   "metadata": {},
   "outputs": [
    {
     "name": "stdout",
     "output_type": "stream",
     "text": [
      "trouvé\n",
      "trouvé\n",
      "trouvé\n"
     ]
    }
   ],
   "source": [
    "# méthode directe\n",
    "dataset = \"data-es\"\n",
    "base_url = f\"https://equipements.sports.gouv.fr/api/explore/v2.1/catalog/datasets/{dataset}/records\"\n",
    "lieu_remove = []\n",
    "for lieu in lieu_epreuves:\n",
    "    params = {\n",
    "        \"where\": f'nominstallation:\"{lieu}\"',\n",
    "        \"select\": \"numinstallation,nominstallation,adresse,codepostal,new_name,new_code,nomequipement,coordgpsx,coordgpsy, carac72\"\n",
    "    }\n",
    "    res = requests.get(url=base_url, params=params, timeout=2)\n",
    "    if res.json()['total_count'] > 0:\n",
    "        print('trouvé')\n",
    "        lieu_remove.append(lieu)\n",
    "        # pd.DataFrame(res.json()['results']).to_csv(f\"../data/raw/{lieu}_basic.csv\")\n",
    "        data = pd.concat([data, pd.DataFrame(res.json()['results'])])\n",
    "for lieu in lieu_remove:\n",
    "    lieu_epreuves.remove(lieu)"
   ]
  },
  {
   "cell_type": "code",
   "execution_count": 42,
   "metadata": {},
   "outputs": [
    {
     "name": "stdout",
     "output_type": "stream",
     "text": [
      "longueur restantes 37\n"
     ]
    }
   ],
   "source": [
    "print('longueur restantes', len(lieu_epreuves))"
   ]
  },
  {
   "cell_type": "code",
   "execution_count": 43,
   "metadata": {},
   "outputs": [
    {
     "name": "stdout",
     "output_type": "stream",
     "text": [
      "trouvé\n",
      "trouvé\n",
      "trouvé\n",
      "trouvé\n",
      "longueur restantes 33\n"
     ]
    }
   ],
   "source": [
    "# méthode caps\n",
    "dataset = \"data-es\"\n",
    "base_url = f\"https://equipements.sports.gouv.fr/api/explore/v2.1/catalog/datasets/{dataset}/records\"\n",
    "lieu_remove = []\n",
    "for lieu in lieu_epreuves:\n",
    "    params = {\n",
    "        \"where\": f'nominstallation:\"{lieu.upper()}\"',\n",
    "        \"select\": \"numinstallation,nominstallation,adresse,codepostal,new_name,new_code,nomequipement,coordgpsx,coordgpsy, carac72\"\n",
    "    }\n",
    "    res = requests.get(url=base_url, params=params, timeout=2)\n",
    "    if res.json()['total_count'] > 0:\n",
    "        print('trouvé')\n",
    "        lieu_remove.append(lieu)\n",
    "        # pd.DataFrame(res.json()['results']).to_csv(f\"../data/raw/{lieu}_upper.csv\")\n",
    "        data = pd.concat([data, pd.DataFrame(res.json()['results'])])\n",
    "for lieu in lieu_remove:\n",
    "    lieu_epreuves.remove(lieu)\n",
    "print('longueur restantes', len(lieu_epreuves))"
   ]
  },
  {
   "cell_type": "code",
   "execution_count": 44,
   "metadata": {},
   "outputs": [
    {
     "name": "stdout",
     "output_type": "stream",
     "text": [
      "longueur restantes 33\n"
     ]
    }
   ],
   "source": [
    "print('longueur restantes', len(lieu_epreuves))"
   ]
  },
  {
   "cell_type": "code",
   "execution_count": 45,
   "metadata": {},
   "outputs": [
    {
     "name": "stdout",
     "output_type": "stream",
     "text": [
      "longueur restantes 33\n"
     ]
    }
   ],
   "source": [
    "# méthode caps\n",
    "dataset = \"data-es\"\n",
    "base_url = f\"https://equipements.sports.gouv.fr/api/explore/v2.1/catalog/datasets/{dataset}/records\"\n",
    "lieu_remove = []\n",
    "for lieu in lieu_epreuves:\n",
    "    params = {\n",
    "        \"where\": f'nominstallation:\"{lieu.lower()}\"',\n",
    "        \"select\": \"numinstallation,nominstallation,adresse,codepostal,new_name,new_code,nomequipement,coordgpsx,coordgpsy, carac72\"\n",
    "    }\n",
    "    res = requests.get(url=base_url, params=params, timeout=2)\n",
    "    if res.json()['total_count'] > 0:\n",
    "        print('trouvé')\n",
    "        lieu_remove.append(lieu)\n",
    "        # pd.DataFrame(res.json()['results']).to_csv(f\"../data/raw/{lieu}_lower.csv\")\n",
    "        data = pd.concat([data, pd.DataFrame(res.json()['results'])])\n",
    "for lieu in lieu_remove:\n",
    "    lieu_epreuves.remove(lieu)\n",
    "\n",
    "print('longueur restantes', len(lieu_epreuves))"
   ]
  },
  {
   "cell_type": "code",
   "execution_count": 46,
   "metadata": {},
   "outputs": [],
   "source": [
    "data = data.reset_index(drop=True)"
   ]
  },
  {
   "cell_type": "code",
   "execution_count": 47,
   "metadata": {},
   "outputs": [],
   "source": [
    "data = data.loc[data.carac72 != 0].reset_index(drop=True)"
   ]
  },
  {
   "cell_type": "code",
   "execution_count": 48,
   "metadata": {},
   "outputs": [
    {
     "data": {
      "text/html": [
       "<div>\n",
       "<style scoped>\n",
       "    .dataframe tbody tr th:only-of-type {\n",
       "        vertical-align: middle;\n",
       "    }\n",
       "\n",
       "    .dataframe tbody tr th {\n",
       "        vertical-align: top;\n",
       "    }\n",
       "\n",
       "    .dataframe thead th {\n",
       "        text-align: right;\n",
       "    }\n",
       "</style>\n",
       "<table border=\"1\" class=\"dataframe\">\n",
       "  <thead>\n",
       "    <tr style=\"text-align: right;\">\n",
       "      <th></th>\n",
       "      <th>numinstallation</th>\n",
       "      <th>nominstallation</th>\n",
       "      <th>adresse</th>\n",
       "      <th>codepostal</th>\n",
       "      <th>new_name</th>\n",
       "      <th>new_code</th>\n",
       "      <th>nomequipement</th>\n",
       "      <th>coordgpsx</th>\n",
       "      <th>coordgpsy</th>\n",
       "      <th>carac72</th>\n",
       "    </tr>\n",
       "  </thead>\n",
       "  <tbody>\n",
       "    <tr>\n",
       "      <th>0</th>\n",
       "      <td>I422180156</td>\n",
       "      <td>Stade Geoffroy-Guichard</td>\n",
       "      <td>14 rue Paul et Pierre Guichard</td>\n",
       "      <td>42000</td>\n",
       "      <td>Saint-Étienne</td>\n",
       "      <td>42218</td>\n",
       "      <td>Terrain de football Honneur</td>\n",
       "      <td>4.390171</td>\n",
       "      <td>45.460749</td>\n",
       "      <td>41000.0</td>\n",
       "    </tr>\n",
       "    <tr>\n",
       "      <th>1</th>\n",
       "      <td>I590090003</td>\n",
       "      <td>Stade Pierre Mauroy</td>\n",
       "      <td>261 Boulevard de Tournai, « Borne de l'espoir ...</td>\n",
       "      <td>59491</td>\n",
       "      <td>Villeneuve-d'Ascq</td>\n",
       "      <td>59009</td>\n",
       "      <td>Terrain du stade Pierre Mauroy</td>\n",
       "      <td>3.130631</td>\n",
       "      <td>50.611962</td>\n",
       "      <td>50154.0</td>\n",
       "    </tr>\n",
       "    <tr>\n",
       "      <th>2</th>\n",
       "      <td>I590090003</td>\n",
       "      <td>Stade Pierre Mauroy</td>\n",
       "      <td>261 Boulevard de Tournai, « Borne de l'espoir ...</td>\n",
       "      <td>59491</td>\n",
       "      <td>Villeneuve-d'Ascq</td>\n",
       "      <td>59009</td>\n",
       "      <td>Arena</td>\n",
       "      <td>3.130631</td>\n",
       "      <td>50.611962</td>\n",
       "      <td>31560.0</td>\n",
       "    </tr>\n",
       "    <tr>\n",
       "      <th>3</th>\n",
       "      <td>I610060024</td>\n",
       "      <td>Centre aquatique</td>\n",
       "      <td>31 r du paty</td>\n",
       "      <td>61200</td>\n",
       "      <td>Argentan</td>\n",
       "      <td>61006</td>\n",
       "      <td>Bassin sportif</td>\n",
       "      <td>-0.013203</td>\n",
       "      <td>48.741568</td>\n",
       "      <td>150.0</td>\n",
       "    </tr>\n",
       "    <tr>\n",
       "      <th>4</th>\n",
       "      <td>I751160053</td>\n",
       "      <td>PARC DES PRINCES</td>\n",
       "      <td>24 RUE DU COMMANDANT GUILBAUD</td>\n",
       "      <td>75016</td>\n",
       "      <td>Paris 16e Arrondissement</td>\n",
       "      <td>75116</td>\n",
       "      <td>TERRAIN D'HONNEUR</td>\n",
       "      <td>2.253050</td>\n",
       "      <td>48.841450</td>\n",
       "      <td>45500.0</td>\n",
       "    </tr>\n",
       "    <tr>\n",
       "      <th>5</th>\n",
       "      <td>I441090221</td>\n",
       "      <td>STADE DE LA BEAUJOIRE</td>\n",
       "      <td>Avenue de la Beaujoire</td>\n",
       "      <td>44000</td>\n",
       "      <td>Nantes</td>\n",
       "      <td>44109</td>\n",
       "      <td>stade Louis Fonteneau</td>\n",
       "      <td>-1.524660</td>\n",
       "      <td>47.256100</td>\n",
       "      <td>37427.0</td>\n",
       "    </tr>\n",
       "    <tr>\n",
       "      <th>6</th>\n",
       "      <td>I441090066</td>\n",
       "      <td>GRAND PALAIS</td>\n",
       "      <td>route de saint Joseph parc des expositions</td>\n",
       "      <td>44000</td>\n",
       "      <td>Nantes</td>\n",
       "      <td>44109</td>\n",
       "      <td>grand palais</td>\n",
       "      <td>-1.533060</td>\n",
       "      <td>47.258550</td>\n",
       "      <td>1500.0</td>\n",
       "    </tr>\n",
       "    <tr>\n",
       "      <th>7</th>\n",
       "      <td>I930660048</td>\n",
       "      <td>STADE DE FRANCE</td>\n",
       "      <td>Avenue du Stade de France</td>\n",
       "      <td>93200</td>\n",
       "      <td>Saint-Denis</td>\n",
       "      <td>93066</td>\n",
       "      <td>TERRAIN  DE  FOOTBALL</td>\n",
       "      <td>2.360100</td>\n",
       "      <td>48.924450</td>\n",
       "      <td>80000.0</td>\n",
       "    </tr>\n",
       "    <tr>\n",
       "      <th>8</th>\n",
       "      <td>I930660048</td>\n",
       "      <td>STADE DE FRANCE</td>\n",
       "      <td>Avenue du Stade de France</td>\n",
       "      <td>93200</td>\n",
       "      <td>Saint-Denis</td>\n",
       "      <td>93066</td>\n",
       "      <td>STADE  D'ATHLETISME</td>\n",
       "      <td>2.360500</td>\n",
       "      <td>48.925100</td>\n",
       "      <td>75000.0</td>\n",
       "    </tr>\n",
       "  </tbody>\n",
       "</table>\n",
       "</div>"
      ],
      "text/plain": [
       "  numinstallation          nominstallation  \\\n",
       "0      I422180156  Stade Geoffroy-Guichard   \n",
       "1      I590090003      Stade Pierre Mauroy   \n",
       "2      I590090003      Stade Pierre Mauroy   \n",
       "3      I610060024         Centre aquatique   \n",
       "4      I751160053         PARC DES PRINCES   \n",
       "5      I441090221    STADE DE LA BEAUJOIRE   \n",
       "6      I441090066             GRAND PALAIS   \n",
       "7      I930660048          STADE DE FRANCE   \n",
       "8      I930660048          STADE DE FRANCE   \n",
       "\n",
       "                                             adresse codepostal  \\\n",
       "0                     14 rue Paul et Pierre Guichard      42000   \n",
       "1  261 Boulevard de Tournai, « Borne de l'espoir ...      59491   \n",
       "2  261 Boulevard de Tournai, « Borne de l'espoir ...      59491   \n",
       "3                                       31 r du paty      61200   \n",
       "4                      24 RUE DU COMMANDANT GUILBAUD      75016   \n",
       "5                             Avenue de la Beaujoire      44000   \n",
       "6         route de saint Joseph parc des expositions      44000   \n",
       "7                          Avenue du Stade de France      93200   \n",
       "8                          Avenue du Stade de France      93200   \n",
       "\n",
       "                   new_name new_code                   nomequipement  \\\n",
       "0             Saint-Étienne    42218     Terrain de football Honneur   \n",
       "1         Villeneuve-d'Ascq    59009  Terrain du stade Pierre Mauroy   \n",
       "2         Villeneuve-d'Ascq    59009                           Arena   \n",
       "3                  Argentan    61006                  Bassin sportif   \n",
       "4  Paris 16e Arrondissement    75116               TERRAIN D'HONNEUR   \n",
       "5                    Nantes    44109           stade Louis Fonteneau   \n",
       "6                    Nantes    44109                    grand palais   \n",
       "7               Saint-Denis    93066           TERRAIN  DE  FOOTBALL   \n",
       "8               Saint-Denis    93066             STADE  D'ATHLETISME   \n",
       "\n",
       "   coordgpsx  coordgpsy  carac72  \n",
       "0   4.390171  45.460749  41000.0  \n",
       "1   3.130631  50.611962  50154.0  \n",
       "2   3.130631  50.611962  31560.0  \n",
       "3  -0.013203  48.741568    150.0  \n",
       "4   2.253050  48.841450  45500.0  \n",
       "5  -1.524660  47.256100  37427.0  \n",
       "6  -1.533060  47.258550   1500.0  \n",
       "7   2.360100  48.924450  80000.0  \n",
       "8   2.360500  48.925100  75000.0  "
      ]
     },
     "execution_count": 48,
     "metadata": {},
     "output_type": "execute_result"
    }
   ],
   "source": [
    "data"
   ]
  },
  {
   "cell_type": "code",
   "execution_count": 49,
   "metadata": {},
   "outputs": [],
   "source": [
    "data.to_csv('../data/raw/mapped_data.csv')"
   ]
  }
 ],
 "metadata": {
  "kernelspec": {
   "display_name": ".venv",
   "language": "python",
   "name": "python3"
  },
  "language_info": {
   "codemirror_mode": {
    "name": "ipython",
    "version": 3
   },
   "file_extension": ".py",
   "mimetype": "text/x-python",
   "name": "python",
   "nbconvert_exporter": "python",
   "pygments_lexer": "ipython3",
   "version": "3.10.4"
  }
 },
 "nbformat": 4,
 "nbformat_minor": 2
}
